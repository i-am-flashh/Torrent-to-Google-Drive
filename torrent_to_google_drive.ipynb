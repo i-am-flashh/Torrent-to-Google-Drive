{
  "nbformat": 4,
  "nbformat_minor": 0,
  "metadata": {
    "colab": {
      "name": "torrent-to-google-drive.ipynb",
      "provenance": [],
      "collapsed_sections": []
    },
    "kernelspec": {
      "name": "python3",
      "display_name": "Python 3"
    }
  },
  "cells": [
    {
      "cell_type": "code",
      "metadata": {
        "id": "gyIYz-tvZtj7",
        "colab_type": "code",
        "colab": {}
      },
      "source": [
        "#Mount the drive first\n",
        "\n",
        "from google.colab import drive\n",
        "drive.mount('/content/drive')"
      ],
      "execution_count": null,
      "outputs": []
    },
    {
      "cell_type": "code",
      "metadata": {
        "id": "zgxgv9YfdPNf",
        "colab_type": "code",
        "colab": {}
      },
      "source": [
        "#Create a kill script which will kill the torrent client when download is complete.\n",
        "#Although it is advised to seed the files once you downloaded but totally up to you.\n",
        "\n",
        "!apt-get install psmisc\n",
        "!touch script.sh \n",
        "!echo \"killall transmission-cli\" > script.sh\n",
        "!chmod a+x script.sh"
      ],
      "execution_count": null,
      "outputs": []
    },
    {
      "cell_type": "code",
      "metadata": {
        "id": "K_DROn37tcSL",
        "colab_type": "code",
        "colab": {}
      },
      "source": [
        "#Download command line client for torrent and start donwloading in the /torrent/ folder of Google drive.\n",
        "\n",
        "!sudo apt install transmission-cli\n",
        "!transmission-cli -f /content/script.sh -w drive/'My Drive'/torrent/ \"Enter your Magnet Link or File location here\""
      ],
      "execution_count": null,
      "outputs": []
    }
  ]
}